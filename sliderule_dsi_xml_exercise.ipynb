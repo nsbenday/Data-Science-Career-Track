{
 "cells": [
  {
   "cell_type": "markdown",
   "metadata": {},
   "source": [
    "# XML example and exercise\n",
    "****\n",
    "+ study examples of accessing nodes in XML tree structure  \n",
    "+ work on exercise to be completed and submitted\n",
    "****\n",
    "+ reference: https://docs.python.org/2.7/library/xml.etree.elementtree.html\n",
    "+ data source: http://www.dbis.informatik.uni-goettingen.de/Mondial\n",
    "****"
   ]
  },
  {
   "cell_type": "code",
   "execution_count": 80,
   "metadata": {
    "collapsed": true
   },
   "outputs": [],
   "source": [
    "from xml.etree import ElementTree as ET\n",
    "import re\n",
    "import pandas as pd\n",
    "import numpy as np"
   ]
  },
  {
   "cell_type": "markdown",
   "metadata": {},
   "source": [
    "## XML example\n",
    "\n",
    "+ for details about tree traversal and iterators, see https://docs.python.org/2.7/library/xml.etree.elementtree.html"
   ]
  },
  {
   "cell_type": "code",
   "execution_count": 6,
   "metadata": {},
   "outputs": [],
   "source": [
    "document_tree = ET.parse( './data/mondial_database_less.xml' )"
   ]
  },
  {
   "cell_type": "code",
   "execution_count": 4,
   "metadata": {},
   "outputs": [
    {
     "name": "stdout",
     "output_type": "stream",
     "text": [
      "Albania\n",
      "Greece\n",
      "Macedonia\n",
      "Serbia\n",
      "Montenegro\n",
      "Kosovo\n",
      "Andorra\n"
     ]
    }
   ],
   "source": [
    "# print names of all countries\n",
    "for child in document_tree.getroot():\n",
    "    print(child.find('name').text)"
   ]
  },
  {
   "cell_type": "code",
   "execution_count": 6,
   "metadata": {},
   "outputs": [
    {
     "name": "stdout",
     "output_type": "stream",
     "text": [
      "* Albania:\n",
      "Tirana, Shkodër, Durrës, Vlorë, Elbasan, Korçë\n",
      "* Greece:\n",
      "Komotini, Kavala, Athina, Peiraias, Peristeri, Acharnes, Patra, Kozani, Kerkyra, Ioannina, Thessaloniki, Iraklio, Chania, Ermoupoli, Rhodes, Tripoli, Lamia, Chalkida, Larissa, Volos, Mytilini, Karyes\n",
      "* Macedonia:\n",
      "Skopje, Kumanovo\n",
      "* Serbia:\n",
      "Beograd, Novi Sad, Niš\n",
      "* Montenegro:\n",
      "Podgorica\n",
      "* Kosovo:\n",
      "Prishtine\n",
      "* Andorra:\n",
      "Andorra la Vella\n"
     ]
    }
   ],
   "source": [
    "# print names of all countries and their cities\n",
    "for element in document_tree.iterfind('country'):\n",
    "    print('* ' + element.find('name').text + ':',)\n",
    "    capitals_string = ''\n",
    "    for subelement in element.iter('city'):\n",
    "        capitals_string += subelement.find('name').text + ', '\n",
    "    print(capitals_string[:-2])"
   ]
  },
  {
   "cell_type": "markdown",
   "metadata": {},
   "source": [
    "****\n",
    "## XML exercise\n",
    "\n",
    "Using data in 'data/mondial_database.xml', the examples above, and refering to https://docs.python.org/2.7/library/xml.etree.elementtree.html, find\n",
    "\n",
    "1. 10 countries with the lowest infant mortality rates\n",
    "2. 10 cities with the largest population\n",
    "3. 10 ethnic groups with the largest overall populations (sum of best/latest estimates over all countries)\n",
    "4. name and country of a) longest river, b) largest lake and c) airport at highest elevation"
   ]
  },
  {
   "cell_type": "code",
   "execution_count": null,
   "metadata": {
    "collapsed": true
   },
   "outputs": [],
   "source": []
  },
  {
   "cell_type": "code",
   "execution_count": null,
   "metadata": {
    "collapsed": true
   },
   "outputs": [],
   "source": []
  },
  {
   "cell_type": "code",
   "execution_count": null,
   "metadata": {
    "collapsed": true
   },
   "outputs": [],
   "source": []
  },
  {
   "cell_type": "code",
   "execution_count": 7,
   "metadata": {
    "collapsed": true
   },
   "outputs": [],
   "source": [
    "document = ET.parse( './data/mondial_database.xml' )\n",
    "root = document.getroot()\n"
   ]
  },
  {
   "cell_type": "code",
   "execution_count": 171,
   "metadata": {},
   "outputs": [
    {
     "data": {
      "text/html": [
       "<div>\n",
       "<style>\n",
       "    .dataframe thead tr:only-child th {\n",
       "        text-align: right;\n",
       "    }\n",
       "\n",
       "    .dataframe thead th {\n",
       "        text-align: left;\n",
       "    }\n",
       "\n",
       "    .dataframe tbody tr th {\n",
       "        vertical-align: top;\n",
       "    }\n",
       "</style>\n",
       "<table border=\"1\" class=\"dataframe\">\n",
       "  <thead>\n",
       "    <tr style=\"text-align: right;\">\n",
       "      <th></th>\n",
       "      <th>Country</th>\n",
       "      <th>Infant_Mortality</th>\n",
       "    </tr>\n",
       "  </thead>\n",
       "  <tbody>\n",
       "    <tr>\n",
       "      <th>178</th>\n",
       "      <td>Western Sahara</td>\n",
       "      <td>145.82</td>\n",
       "    </tr>\n",
       "    <tr>\n",
       "      <th>48</th>\n",
       "      <td>Afghanistan</td>\n",
       "      <td>117.23</td>\n",
       "    </tr>\n",
       "    <tr>\n",
       "      <th>173</th>\n",
       "      <td>Mali</td>\n",
       "      <td>104.34</td>\n",
       "    </tr>\n",
       "    <tr>\n",
       "      <th>210</th>\n",
       "      <td>Somalia</td>\n",
       "      <td>100.14</td>\n",
       "    </tr>\n",
       "    <tr>\n",
       "      <th>197</th>\n",
       "      <td>Central African Republic</td>\n",
       "      <td>92.86</td>\n",
       "    </tr>\n",
       "    <tr>\n",
       "      <th>214</th>\n",
       "      <td>Guinea-Bissau</td>\n",
       "      <td>90.92</td>\n",
       "    </tr>\n",
       "    <tr>\n",
       "      <th>198</th>\n",
       "      <td>Chad</td>\n",
       "      <td>90.30</td>\n",
       "    </tr>\n",
       "    <tr>\n",
       "      <th>176</th>\n",
       "      <td>Niger</td>\n",
       "      <td>86.27</td>\n",
       "    </tr>\n",
       "    <tr>\n",
       "      <th>179</th>\n",
       "      <td>Angola</td>\n",
       "      <td>79.99</td>\n",
       "    </tr>\n",
       "    <tr>\n",
       "      <th>185</th>\n",
       "      <td>Burkina Faso</td>\n",
       "      <td>76.80</td>\n",
       "    </tr>\n",
       "  </tbody>\n",
       "</table>\n",
       "</div>"
      ],
      "text/plain": [
       "                      Country  Infant_Mortality\n",
       "178            Western Sahara            145.82\n",
       "48                Afghanistan            117.23\n",
       "173                      Mali            104.34\n",
       "210                   Somalia            100.14\n",
       "197  Central African Republic             92.86\n",
       "214             Guinea-Bissau             90.92\n",
       "198                      Chad             90.30\n",
       "176                     Niger             86.27\n",
       "179                    Angola             79.99\n",
       "185              Burkina Faso             76.80"
      ]
     },
     "execution_count": 171,
     "metadata": {},
     "output_type": "execute_result"
    }
   ],
   "source": [
    "str_init = \"\"      #initialize an empty string\n",
    "for element in root.findall('country'):   #iterate through all countries\n",
    "    \n",
    "    if element.find('infant_mortality') == None:\n",
    "        \n",
    "        pass\n",
    "    # If element.find('infant_mortality').text is NOT null, extract the infant_mortality and country name as text and\n",
    "    #add it to str_init for every country\n",
    "    else:\n",
    "        infant_mort = element.find('infant_mortality').text\n",
    "        Country = element.find('name').text\n",
    "        str_init = str_init + Country + infant_mort\n",
    "        \n",
    "list_im = re.split(r'(\\d+\\.*\\d*)',str_init )  #split the string using regular expression which splits country and infant mortalities\n",
    "dict_im = dict(zip(list_im[::2],list_im[1::2])) # create two separate lists for infant_mortality values and country names, zip them together, and then create a dictionary\n",
    "df = pd.DataFrame(list(dict_im.items()), columns = ['Country','Infant_Mortality'],dtype = 'float') # construct a dataframe using the new dictionary\n",
    "df.sort_values('Infant_Mortality',ascending = False).head(10) #sort the dataframe by infant mortality."
   ]
  },
  {
   "cell_type": "code",
   "execution_count": null,
   "metadata": {},
   "outputs": [],
   "source": []
  },
  {
   "cell_type": "code",
   "execution_count": 174,
   "metadata": {},
   "outputs": [
    {
     "data": {
      "text/html": [
       "<div>\n",
       "<style>\n",
       "    .dataframe thead tr:only-child th {\n",
       "        text-align: right;\n",
       "    }\n",
       "\n",
       "    .dataframe thead th {\n",
       "        text-align: left;\n",
       "    }\n",
       "\n",
       "    .dataframe tbody tr th {\n",
       "        vertical-align: top;\n",
       "    }\n",
       "</style>\n",
       "<table border=\"1\" class=\"dataframe\">\n",
       "  <thead>\n",
       "    <tr style=\"text-align: right;\">\n",
       "      <th></th>\n",
       "      <th>City</th>\n",
       "      <th>Population</th>\n",
       "    </tr>\n",
       "  </thead>\n",
       "  <tbody>\n",
       "    <tr>\n",
       "      <th>3693</th>\n",
       "      <td>Shanghai</td>\n",
       "      <td>22315474</td>\n",
       "    </tr>\n",
       "    <tr>\n",
       "      <th>3692</th>\n",
       "      <td>Shanghai</td>\n",
       "      <td>15758892</td>\n",
       "    </tr>\n",
       "    <tr>\n",
       "      <th>2550</th>\n",
       "      <td>Istanbul</td>\n",
       "      <td>13710512</td>\n",
       "    </tr>\n",
       "    <tr>\n",
       "      <th>4337</th>\n",
       "      <td>Delhi</td>\n",
       "      <td>12877470</td>\n",
       "    </tr>\n",
       "    <tr>\n",
       "      <th>4242</th>\n",
       "      <td>Mumbai</td>\n",
       "      <td>12442373</td>\n",
       "    </tr>\n",
       "    <tr>\n",
       "      <th>1489</th>\n",
       "      <td>Moskva</td>\n",
       "      <td>11979529</td>\n",
       "    </tr>\n",
       "    <tr>\n",
       "      <th>4241</th>\n",
       "      <td>Mumbai</td>\n",
       "      <td>11914398</td>\n",
       "    </tr>\n",
       "    <tr>\n",
       "      <th>3689</th>\n",
       "      <td>Beijing</td>\n",
       "      <td>11716620</td>\n",
       "    </tr>\n",
       "    <tr>\n",
       "      <th>1488</th>\n",
       "      <td>Moskva</td>\n",
       "      <td>11612885</td>\n",
       "    </tr>\n",
       "    <tr>\n",
       "      <th>8145</th>\n",
       "      <td>SãoPaulo</td>\n",
       "      <td>11152344</td>\n",
       "    </tr>\n",
       "  </tbody>\n",
       "</table>\n",
       "</div>"
      ],
      "text/plain": [
       "          City  Population\n",
       "3693  Shanghai    22315474\n",
       "3692  Shanghai    15758892\n",
       "2550  Istanbul    13710512\n",
       "4337     Delhi    12877470\n",
       "4242    Mumbai    12442373\n",
       "1489    Moskva    11979529\n",
       "4241    Mumbai    11914398\n",
       "3689   Beijing    11716620\n",
       "1488    Moskva    11612885\n",
       "8145  SãoPaulo    11152344"
      ]
     },
     "execution_count": 174,
     "metadata": {},
     "output_type": "execute_result"
    }
   ],
   "source": [
    "city_pop_string = ''\n",
    "city_pop_string2 = '' #initialize two empty strings\n",
    "\n",
    "for country in root.findall('country'): #Loop through each country\n",
    "    for city in country.iter('city'): #Loop through each city in each country\n",
    "        if city.find('population') == None: #If city population is not specified, then pass\n",
    "            pass\n",
    "        else: #If city population is specified, find the city name and strip out all blank spaces, periods, commas. \n",
    "            \n",
    "            city_name = city.find('name').text\n",
    "            city_name = city_name.replace(' ', '').replace('-','').replace('.','').replace(\"'\", \"\")\n",
    "            for population in city.findall('population'): # For each city, find all population values and add it to city_pop_string\n",
    "                city_pop_string += population.text+ \" \"\n",
    "                city_pop_string += city_name+ \",\"\n",
    "\n",
    "#Split the city_pop_string pair the latest population estimate with the city name\n",
    "city_population_list = re.split(r'(\\d+\\s+\\w+[\\.,])', city_pop_string)\n",
    "\n",
    "for element in city_population_list[1::2]: #Filter out old population estimates by indexing and loop through the list to add all elements of that list to city_pop_string2\n",
    "    city_pop_string2 += element + \" \"\n",
    "\n",
    "# Split city_pop_string_2 in order to separate population estimates and city name\n",
    "city_final_lst = re.split(r'(\\d+|\\s+|[\\.,])', city_pop_string2)\n",
    "\n",
    "city_list = city_final_lst[4::8] # create a list consisting of only city names\n",
    "latest_pop_lst = city_final_lst[1::8] #create a list consisting of only population estimates\n",
    "\n",
    "city_pop_df = pd.DataFrame([city_list, latest_pop_lst]).unstack().unstack() #create a dataframe\n",
    "city_pop_df.columns = ['City','Population']\n",
    "city_pop_df['Population'] = city_pop_df['Population'].apply(lambda x: int(x)) #convert Population column to float dtype\n",
    "city_pop_df.sort_values('Population', ascending = False).head(10) #sort the dataframe by population from largest to smallets"
   ]
  },
  {
   "cell_type": "code",
   "execution_count": null,
   "metadata": {
    "collapsed": true
   },
   "outputs": [],
   "source": []
  },
  {
   "cell_type": "code",
   "execution_count": null,
   "metadata": {
    "collapsed": true
   },
   "outputs": [],
   "source": []
  },
  {
   "cell_type": "code",
   "execution_count": 181,
   "metadata": {},
   "outputs": [],
   "source": [
    "pop_str = \"\"\n",
    "str_list_1 = \"\" #initialize two empty strings\n",
    "\n",
    "for country in root.findall('country'): #loop through each country\n",
    "    for pop in country.findall('population'): #loop through all population estimates for each country\n",
    "        pop_str += pop.text + \" \" #Add all populations for each country to pop_str separated by a space\n",
    "    pop_str += \".\" # Add a period when finished looping through a countrie's population\n",
    "\n",
    "list_1 = re.split(r'(\\d+\\s+[\\.,])',pop_str) # Split pop_str in order to separate latest population estimate from older estimates\n",
    "\n",
    "for elem in list_1[1::2]: # Add all latest population estimates to a str_list_1\n",
    "    str_list_1 += elem\n",
    "    \n",
    "list_2 = re.split(r'(\\d+)', str_list_1)\n",
    "recent_population_list = list_2[1::2] #Split list_2 via indexing to obtain a list of all recent population estimates for each country\n",
    "\n"
   ]
  },
  {
   "cell_type": "code",
   "execution_count": 182,
   "metadata": {},
   "outputs": [
    {
     "data": {
      "text/html": [
       "<div>\n",
       "<style>\n",
       "    .dataframe thead tr:only-child th {\n",
       "        text-align: right;\n",
       "    }\n",
       "\n",
       "    .dataframe thead th {\n",
       "        text-align: left;\n",
       "    }\n",
       "\n",
       "    .dataframe tbody tr th {\n",
       "        vertical-align: top;\n",
       "    }\n",
       "</style>\n",
       "<table border=\"1\" class=\"dataframe\">\n",
       "  <thead>\n",
       "    <tr style=\"text-align: right;\">\n",
       "      <th></th>\n",
       "      <th>Total</th>\n",
       "    </tr>\n",
       "    <tr>\n",
       "      <th>Ethnicity</th>\n",
       "      <th></th>\n",
       "    </tr>\n",
       "  </thead>\n",
       "  <tbody>\n",
       "    <tr>\n",
       "      <th>Han Chinese</th>\n",
       "      <td>1245058800</td>\n",
       "    </tr>\n",
       "    <tr>\n",
       "      <th>Indo-Aryan</th>\n",
       "      <td>871815583</td>\n",
       "    </tr>\n",
       "    <tr>\n",
       "      <th>European</th>\n",
       "      <td>494872201</td>\n",
       "    </tr>\n",
       "    <tr>\n",
       "      <th>African</th>\n",
       "      <td>318325104</td>\n",
       "    </tr>\n",
       "    <tr>\n",
       "      <th>Dravidian</th>\n",
       "      <td>302713744</td>\n",
       "    </tr>\n",
       "    <tr>\n",
       "      <th>Mestizo</th>\n",
       "      <td>157734349</td>\n",
       "    </tr>\n",
       "    <tr>\n",
       "      <th>Bengali</th>\n",
       "      <td>146776916</td>\n",
       "    </tr>\n",
       "    <tr>\n",
       "      <th>Russian</th>\n",
       "      <td>131856989</td>\n",
       "    </tr>\n",
       "    <tr>\n",
       "      <th>Japanese</th>\n",
       "      <td>126534212</td>\n",
       "    </tr>\n",
       "    <tr>\n",
       "      <th>Malay</th>\n",
       "      <td>121993548</td>\n",
       "    </tr>\n",
       "  </tbody>\n",
       "</table>\n",
       "</div>"
      ],
      "text/plain": [
       "                  Total\n",
       "Ethnicity              \n",
       "Han Chinese  1245058800\n",
       "Indo-Aryan    871815583\n",
       "European      494872201\n",
       "African       318325104\n",
       "Dravidian     302713744\n",
       "Mestizo       157734349\n",
       "Bengali       146776916\n",
       "Russian       131856989\n",
       "Japanese      126534212\n",
       "Malay         121993548"
      ]
     },
     "execution_count": 182,
     "metadata": {},
     "output_type": "execute_result"
    }
   ],
   "source": [
    "master_str_eth = \"\" #intialize an empty string\n",
    "j = 0\n",
    "\n",
    "for country in root.findall('country'): #Loop through each country\n",
    "    pop = country.find('name').text #extract country name\n",
    "    pop_val = recent_population_list[j] #extract country population from recent_population_list\n",
    "    j = j + 1\n",
    "    for ethnic in country.iter('ethnicgroup'): #loop thorugh and extract all ethnic group population percent for each country\n",
    "        list_eth = ethnic.items()[0][1]\n",
    "        master_str_eth += list_eth + ethnic.text + \"  \" + pop + pop_val + \"  \" # add the extracted items to empty string\n",
    "    \n",
    "#split the master_str_eth string to separate out all the items\n",
    "master_list_eth = re.split(r'(\\d+\\.*\\d*)|\\s{2}', master_str_eth)\n",
    "\n",
    "eth_list = master_list_eth[2::8] #creates a list containing ethnic groups\n",
    "percent_list = master_list_eth[1::8] #creates a list containing ethnic population distributions\n",
    "country_list = master_list_eth[4::8] #creates a list containing all country names\n",
    "pop_list = master_list_eth[5::8] #creates a list containing all country populations\n",
    "\n",
    "\n",
    "df_2 = pd.DataFrame([eth_list, percent_list, country_list, pop_list]).unstack().unstack()#create a dataframe\n",
    "df_3 = df_2[[2,0,1,3]]\n",
    "df_3.columns = ['Country','Ethnicity','Percent','Population'] #rename columns \n",
    "df_3['Percent'] = df_3['Percent'].apply(lambda x: float(x))\n",
    "df_3['Population'] = df_3['Population'].apply(lambda x: float(x))\n",
    "df_3['Total'] = ((df_3.Percent)/100) * df_3.Population #calculate ethnic populations and add a \"Total\" column\n",
    "df_3['Total'] = df_3['Total'].apply(lambda x: int(x)).round()\n",
    "\n",
    "df_4 = df_3[['Ethnicity','Total']]\n",
    "df_4.groupby('Ethnicity').sum().sort_values('Total',ascending = False).head(10)\n",
    "\n",
    "\n"
   ]
  },
  {
   "cell_type": "code",
   "execution_count": null,
   "metadata": {},
   "outputs": [],
   "source": []
  },
  {
   "cell_type": "code",
   "execution_count": 99,
   "metadata": {},
   "outputs": [
    {
     "data": {
      "text/html": [
       "<div>\n",
       "<style>\n",
       "    .dataframe thead tr:only-child th {\n",
       "        text-align: right;\n",
       "    }\n",
       "\n",
       "    .dataframe thead th {\n",
       "        text-align: left;\n",
       "    }\n",
       "\n",
       "    .dataframe tbody tr th {\n",
       "        vertical-align: top;\n",
       "    }\n",
       "</style>\n",
       "<table border=\"1\" class=\"dataframe\">\n",
       "  <thead>\n",
       "    <tr style=\"text-align: right;\">\n",
       "      <th></th>\n",
       "      <th>River_Length</th>\n",
       "      <th>River_Name</th>\n",
       "      <th>Country</th>\n",
       "    </tr>\n",
       "  </thead>\n",
       "  <tbody>\n",
       "    <tr>\n",
       "      <th>174</th>\n",
       "      <td>6448.0</td>\n",
       "      <td>Amazonas</td>\n",
       "      <td>CO BR PE</td>\n",
       "    </tr>\n",
       "  </tbody>\n",
       "</table>\n",
       "</div>"
      ],
      "text/plain": [
       "     River_Length River_Name   Country\n",
       "174        6448.0   Amazonas  CO BR PE"
      ]
     },
     "execution_count": 99,
     "metadata": {},
     "output_type": "execute_result"
    }
   ],
   "source": [
    "river_name = \"\"\n",
    "river_country = \"\"\n",
    "river_length = \"\" #initialize empty strings\n",
    "\n",
    "for river in document.iter('river'): #loop through all rivers in the document\n",
    "    river_name += river.find('name').text + \",\" #extract river name and add to river_name\n",
    "    river_country += river.attrib['country'] + \",\" #extract the country/ies the river is located in and add to river_country\n",
    "    if river.find('length') == None: \n",
    "        river_length += 'None'+\",\"\n",
    "    else: #if river length is not specified, add \"None\" to river_length\n",
    "        river_length += river.find('length').text + \",\" #if river length is specified, extract the length and add to river_length\n",
    "        \n",
    "river_length_lst = river_length.split(',') #create separate lists containing river lengths, names, and country names\n",
    "river_name_lst = river_name.split(',')\n",
    "river_country_lst = river_country.split(',')\n",
    "\n",
    "river_df = pd.DataFrame([river_length_lst[0:-1], river_name_lst[0:-1], river_country_lst[0:-1]]).unstack().unstack()\n",
    "river_df.columns = ['River_Length','River_Name','Country'] # Create a dataframe and rename columns\n",
    "\n",
    "river_df = river_df.replace('None', np.nan) #replace \"None\" with NaN values\n",
    "river_df['River_Length'] = river_df['River_Length'].apply(lambda x: float(x))\n",
    "river_df.sort_values('River_Length', ascending=False).head(1)"
   ]
  },
  {
   "cell_type": "code",
   "execution_count": 113,
   "metadata": {},
   "outputs": [
    {
     "data": {
      "text/html": [
       "<div>\n",
       "<style>\n",
       "    .dataframe thead tr:only-child th {\n",
       "        text-align: right;\n",
       "    }\n",
       "\n",
       "    .dataframe thead th {\n",
       "        text-align: left;\n",
       "    }\n",
       "\n",
       "    .dataframe tbody tr th {\n",
       "        vertical-align: top;\n",
       "    }\n",
       "</style>\n",
       "<table border=\"1\" class=\"dataframe\">\n",
       "  <thead>\n",
       "    <tr style=\"text-align: right;\">\n",
       "      <th></th>\n",
       "      <th>River_Length</th>\n",
       "      <th>River_Name</th>\n",
       "      <th>Country</th>\n",
       "    </tr>\n",
       "  </thead>\n",
       "  <tbody>\n",
       "    <tr>\n",
       "      <th>54</th>\n",
       "      <td>386400.0</td>\n",
       "      <td>Caspian Sea</td>\n",
       "      <td>R AZ KAZ IR TM</td>\n",
       "    </tr>\n",
       "  </tbody>\n",
       "</table>\n",
       "</div>"
      ],
      "text/plain": [
       "    River_Length   River_Name         Country\n",
       "54      386400.0  Caspian Sea  R AZ KAZ IR TM"
      ]
     },
     "execution_count": 113,
     "metadata": {},
     "output_type": "execute_result"
    }
   ],
   "source": [
    "#Repeat steps used to solve river problem\n",
    "\n",
    "lake_name = \"\"\n",
    "lake_country = \"\"\n",
    "lake_area = \"\"\n",
    "\n",
    "for lake in document.iter('lake'):\n",
    "    lake_name += lake.find('name').text + \",\"\n",
    "    lake_country += lake.attrib['country'] + \",\"\n",
    "    if lake.find('area') == None:\n",
    "        lake_area+= 'None'+\",\"\n",
    "    else:\n",
    "        lake_area += lake.find('area').text + \",\"\n",
    "        \n",
    "lake_area_lst = lake_area.split(',')\n",
    "\n",
    "lake_name_lst = lake_name.split(',')\n",
    "lake_country_lst = lake_country.split(',')\n",
    "\n",
    "\n",
    "\n",
    "lake_df = pd.DataFrame([lake_area_lst[0:-1], lake_name_lst[0:-1], lake_country_lst[0:-1]]).unstack().unstack()\n",
    "\n",
    "lake_df.columns = ['River_Length','River_Name','Country']\n",
    "\n",
    "lake_df = lake_df.replace('None', np.nan)\n",
    "lake_df['River_Length'] = lake_df['River_Length'].apply(lambda x: float(x))\n",
    "lake_df\n",
    "lake_df.sort_values('River_Length', ascending=False).head(1)"
   ]
  },
  {
   "cell_type": "code",
   "execution_count": 164,
   "metadata": {},
   "outputs": [
    {
     "data": {
      "text/html": [
       "<div>\n",
       "<style>\n",
       "    .dataframe thead tr:only-child th {\n",
       "        text-align: right;\n",
       "    }\n",
       "\n",
       "    .dataframe thead th {\n",
       "        text-align: left;\n",
       "    }\n",
       "\n",
       "    .dataframe tbody tr th {\n",
       "        vertical-align: top;\n",
       "    }\n",
       "</style>\n",
       "<table border=\"1\" class=\"dataframe\">\n",
       "  <thead>\n",
       "    <tr style=\"text-align: right;\">\n",
       "      <th></th>\n",
       "      <th>Airport_Name</th>\n",
       "      <th>Airport_Elevation</th>\n",
       "      <th>Country</th>\n",
       "    </tr>\n",
       "  </thead>\n",
       "  <tbody>\n",
       "    <tr>\n",
       "      <th>80</th>\n",
       "      <td>El Alto Intl</td>\n",
       "      <td>4063.0</td>\n",
       "      <td>BOL</td>\n",
       "    </tr>\n",
       "  </tbody>\n",
       "</table>\n",
       "</div>"
      ],
      "text/plain": [
       "    Airport_Name  Airport_Elevation Country\n",
       "80  El Alto Intl             4063.0     BOL"
      ]
     },
     "execution_count": 164,
     "metadata": {},
     "output_type": "execute_result"
    }
   ],
   "source": [
    "# Repeat steps used to solve river problems\n",
    "\n",
    "airport_name = \"\"\n",
    "airport_country = \"\"\n",
    "airport_elevation = \"\"\n",
    "\n",
    "for airport in document.iter('airport'):\n",
    "    airport_name += airport.find('name').text + \",\"\n",
    "    airport_country += airport.attrib['country'] + \",\"\n",
    "    if airport.find('elevation').text == None:\n",
    "        airport_elevation += 'None' + \",\"\n",
    "    else:\n",
    "        airport_elevation += airport.find('elevation').text + \",\"\n",
    "        \n",
    "airport_elevation_lst = airport_elevation.split(',')\n",
    "airport_name_lst = airport_name.split(',')\n",
    "airport_country_lst = airport_country.split(',')\n",
    "\n",
    "airport_df = pd.DataFrame([airport_name_lst[0:-1], airport_elevation_lst[0:-1], airport_country_lst[0:-1]]).unstack().unstack()\n",
    "\n",
    "airport_df.columns = ['Airport_Name','Airport_Elevation','Country']\n",
    "\n",
    "airport_df = airport_df.replace('None', np.nan)\n",
    "airport_df['Airport_Elevation'] = airport_df['Airport_Elevation'].apply(lambda x: float(x))\n",
    "airport_df.sort_values('Airport_Elevation', ascending=False).head(1)"
   ]
  },
  {
   "cell_type": "code",
   "execution_count": null,
   "metadata": {
    "collapsed": true
   },
   "outputs": [],
   "source": []
  },
  {
   "cell_type": "code",
   "execution_count": null,
   "metadata": {
    "collapsed": true
   },
   "outputs": [],
   "source": []
  },
  {
   "cell_type": "code",
   "execution_count": null,
   "metadata": {
    "collapsed": true
   },
   "outputs": [],
   "source": []
  },
  {
   "cell_type": "code",
   "execution_count": null,
   "metadata": {
    "collapsed": true
   },
   "outputs": [],
   "source": []
  },
  {
   "cell_type": "code",
   "execution_count": null,
   "metadata": {},
   "outputs": [],
   "source": []
  },
  {
   "cell_type": "code",
   "execution_count": null,
   "metadata": {
    "collapsed": true
   },
   "outputs": [],
   "source": []
  },
  {
   "cell_type": "code",
   "execution_count": null,
   "metadata": {
    "collapsed": true
   },
   "outputs": [],
   "source": []
  },
  {
   "cell_type": "code",
   "execution_count": null,
   "metadata": {
    "collapsed": true
   },
   "outputs": [],
   "source": []
  },
  {
   "cell_type": "code",
   "execution_count": null,
   "metadata": {
    "collapsed": true
   },
   "outputs": [],
   "source": []
  },
  {
   "cell_type": "code",
   "execution_count": null,
   "metadata": {
    "collapsed": true
   },
   "outputs": [],
   "source": []
  }
 ],
 "metadata": {
  "kernelspec": {
   "display_name": "Python 3",
   "language": "python",
   "name": "python3"
  },
  "language_info": {
   "codemirror_mode": {
    "name": "ipython",
    "version": 3
   },
   "file_extension": ".py",
   "mimetype": "text/x-python",
   "name": "python",
   "nbconvert_exporter": "python",
   "pygments_lexer": "ipython3",
   "version": "3.6.1"
  }
 },
 "nbformat": 4,
 "nbformat_minor": 1
}
